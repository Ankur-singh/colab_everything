{
 "cells": [
  {
   "cell_type": "code",
   "execution_count": null,
   "metadata": {},
   "outputs": [],
   "source": [
    "#|default_exp core"
   ]
  },
  {
   "cell_type": "markdown",
   "metadata": {},
   "source": [
    "# Core\n",
    "\n",
    "> API details."
   ]
  },
  {
   "cell_type": "code",
   "execution_count": null,
   "metadata": {},
   "outputs": [],
   "source": [
    "#|hide\n",
    "from nbdev.showdoc import *"
   ]
  },
  {
   "cell_type": "code",
   "execution_count": null,
   "metadata": {},
   "outputs": [],
   "source": [
    "#|export\n",
    "import os\n",
    "import subprocess\n",
    "from pyngrok import ngrok"
   ]
  },
  {
   "cell_type": "code",
   "execution_count": null,
   "metadata": {},
   "outputs": [],
   "source": [
    "#|export\n",
    "class ColabBase():\n",
    "    def __init__(self, port=9999):\n",
    "        self.port = port\n",
    "        self._start_server()\n",
    "        \n",
    "    def _start_server(self):\n",
    "        active_tunnels = ngrok.get_tunnels()\n",
    "        for tunnel in active_tunnels:\n",
    "            public_url = tunnel.public_url\n",
    "            ngrok.disconnect(public_url)\n",
    "        url = ngrok.connect(addr=self.port, options={\"bind_tls\": True}, return_ngrok_tunnel=True)\n",
    "        print(f'Web App can be accessed on: {url.public_url}')"
   ]
  },
  {
   "cell_type": "code",
   "execution_count": null,
   "metadata": {},
   "outputs": [],
   "source": [
    "#|export\n",
    "class ColabStreamlit(ColabBase):\n",
    "    def __init__(self, path, port=9999):\n",
    "        super().__init__(port)\n",
    "        self.path = path\n",
    "        self.run_app()\n",
    "\n",
    "    def run_app(self, debug=True):\n",
    "        os.system(f\"fuser -n tcp -k {self.port}\")\n",
    "        cmd = f'streamlit run {self.path} --server.port {self.port}'\n",
    "        with subprocess.Popen(\n",
    "            [cmd],\n",
    "            shell=True,\n",
    "            stdout=subprocess.PIPE,\n",
    "            bufsize=1,\n",
    "            universal_newlines=True,\n",
    "            ) as proc:\n",
    "                for line in proc.stdout:\n",
    "                    if debug: print(line, end=\"\")"
   ]
  },
  {
   "cell_type": "code",
   "execution_count": null,
   "metadata": {},
   "outputs": [],
   "source": [
    "#|export\n",
    "class ColabFlask(ColabBase):\n",
    "    def __init__(self, path, port=9999):\n",
    "        super().__init__(port)\n",
    "        self.path = path\n",
    "        self.run_app()\n",
    "\n",
    "    def run_app(self, debug=True):\n",
    "        os.system(f\"fuser -n tcp -k {self.port}\")\n",
    "        cmd = f'FLASK_APP={self.path} flask run --host=0.0.0.0 --port={self.port}'\n",
    "        with subprocess.Popen(\n",
    "            [cmd],\n",
    "            shell=True,\n",
    "            stdout=subprocess.PIPE,\n",
    "            bufsize=1,\n",
    "            universal_newlines=True,\n",
    "            ) as proc:\n",
    "                for line in proc.stdout:\n",
    "                    if debug: print(line, end=\"\")"
   ]
  },
  {
   "cell_type": "code",
   "execution_count": null,
   "metadata": {},
   "outputs": [],
   "source": [
    "#|export\n",
    "class ColabFastapi(ColabBase):\n",
    "    def __init__(self, path, app='app', port=9999):\n",
    "        super().__init__(port)\n",
    "        self.path = path\n",
    "        self.app = app\n",
    "        self.run_app()\n",
    "\n",
    "    def run_app(self, debug=True):\n",
    "        os.system(f\"fuser -n tcp -k {self.port}\")\n",
    "        cmd = f'uvicorn {self.path}:{self.app} --reload --port {self.port}'\n",
    "        with subprocess.Popen(\n",
    "            [cmd],\n",
    "            shell=True,\n",
    "            stdout=subprocess.PIPE,\n",
    "            bufsize=1,\n",
    "            universal_newlines=True,\n",
    "            ) as proc:\n",
    "                for line in proc.stdout:\n",
    "                    if debug: print(line, end=\"\")"
   ]
  },
  {
   "cell_type": "code",
   "execution_count": null,
   "metadata": {},
   "outputs": [],
   "source": [
    "#|export\n",
    "class ColabCustom(ColabBase):\n",
    "    def __init__(self, cmd, port=9999):\n",
    "        super().__init__(port)\n",
    "        self.cmd = cmd\n",
    "        self.run_app()\n",
    "\n",
    "    def run_app(self, debug=True):\n",
    "        os.system(f\"fuser -n tcp -k {self.port}\")\n",
    "        with subprocess.Popen(\n",
    "            [self.cmd],\n",
    "            shell=True,\n",
    "            stdout=subprocess.PIPE,\n",
    "            bufsize=1,\n",
    "            universal_newlines=True,\n",
    "            ) as proc:\n",
    "                for line in proc.stdout:\n",
    "                    if debug: print(line, end=\"\")"
   ]
  },
  {
   "cell_type": "code",
   "execution_count": null,
   "metadata": {},
   "outputs": [
    {
     "name": "stdout",
     "output_type": "stream",
     "text": [
      "Streamlit app can be accessed on: https://7b8d12a00d05.ngrok.io\n"
     ]
    },
    {
     "ename": "KeyboardInterrupt",
     "evalue": "",
     "output_type": "error",
     "traceback": [
      "\u001b[0;31m---------------------------------------------------------------------------\u001b[0m",
      "\u001b[0;31mKeyboardInterrupt\u001b[0m                         Traceback (most recent call last)",
      "\u001b[0;32m<ipython-input-24-16597b469409>\u001b[0m in \u001b[0;36m<module>\u001b[0;34m\u001b[0m\n\u001b[0;32m----> 1\u001b[0;31m \u001b[0mColabStreamlit\u001b[0m\u001b[0;34m(\u001b[0m\u001b[0;34m'hello'\u001b[0m\u001b[0;34m)\u001b[0m\u001b[0;34m\u001b[0m\u001b[0;34m\u001b[0m\u001b[0m\n\u001b[0m",
      "\u001b[0;32m<ipython-input-23-ac3a15a1ec16>\u001b[0m in \u001b[0;36m__init__\u001b[0;34m(self, path, port)\u001b[0m\n\u001b[1;32m      5\u001b[0m         \u001b[0mself\u001b[0m\u001b[0;34m.\u001b[0m\u001b[0mpath\u001b[0m \u001b[0;34m=\u001b[0m \u001b[0mpath\u001b[0m\u001b[0;34m\u001b[0m\u001b[0;34m\u001b[0m\u001b[0m\n\u001b[1;32m      6\u001b[0m         \u001b[0mself\u001b[0m\u001b[0;34m.\u001b[0m\u001b[0m_start_server\u001b[0m\u001b[0;34m(\u001b[0m\u001b[0;34m)\u001b[0m\u001b[0;34m\u001b[0m\u001b[0;34m\u001b[0m\u001b[0m\n\u001b[0;32m----> 7\u001b[0;31m         \u001b[0mself\u001b[0m\u001b[0;34m.\u001b[0m\u001b[0mrun_app\u001b[0m\u001b[0;34m(\u001b[0m\u001b[0;34m)\u001b[0m\u001b[0;34m\u001b[0m\u001b[0;34m\u001b[0m\u001b[0m\n\u001b[0m\u001b[1;32m      8\u001b[0m \u001b[0;34m\u001b[0m\u001b[0m\n\u001b[1;32m      9\u001b[0m     \u001b[0;32mdef\u001b[0m \u001b[0m_start_server\u001b[0m\u001b[0;34m(\u001b[0m\u001b[0mself\u001b[0m\u001b[0;34m)\u001b[0m\u001b[0;34m:\u001b[0m\u001b[0;34m\u001b[0m\u001b[0;34m\u001b[0m\u001b[0m\n",
      "\u001b[0;32m<ipython-input-23-ac3a15a1ec16>\u001b[0m in \u001b[0;36mrun_app\u001b[0;34m(self, debug)\u001b[0m\n\u001b[1;32m     25\u001b[0m             \u001b[0muniversal_newlines\u001b[0m\u001b[0;34m=\u001b[0m\u001b[0;32mTrue\u001b[0m\u001b[0;34m,\u001b[0m\u001b[0;34m\u001b[0m\u001b[0;34m\u001b[0m\u001b[0m\n\u001b[1;32m     26\u001b[0m             ) as proc:\n\u001b[0;32m---> 27\u001b[0;31m                 \u001b[0;32mfor\u001b[0m \u001b[0mline\u001b[0m \u001b[0;32min\u001b[0m \u001b[0mproc\u001b[0m\u001b[0;34m.\u001b[0m\u001b[0mstdout\u001b[0m\u001b[0;34m:\u001b[0m\u001b[0;34m\u001b[0m\u001b[0;34m\u001b[0m\u001b[0m\n\u001b[0m\u001b[1;32m     28\u001b[0m                     \u001b[0;32mif\u001b[0m \u001b[0mdebug\u001b[0m\u001b[0;34m:\u001b[0m \u001b[0mprint\u001b[0m\u001b[0;34m(\u001b[0m\u001b[0mline\u001b[0m\u001b[0;34m,\u001b[0m \u001b[0mend\u001b[0m\u001b[0;34m=\u001b[0m\u001b[0;34m\"\"\u001b[0m\u001b[0;34m)\u001b[0m\u001b[0;34m\u001b[0m\u001b[0;34m\u001b[0m\u001b[0m\n",
      "\u001b[0;31mKeyboardInterrupt\u001b[0m: "
     ]
    }
   ],
   "source": [
    "#|hide\n",
    "#|eval: false\n",
    "# ColabStreamlit('hello')"
   ]
  },
  {
   "cell_type": "code",
   "execution_count": null,
   "metadata": {},
   "outputs": [
    {
     "data": {
      "text/plain": [
       "'https://b0d2e33a0f74.ngrok.io'"
      ]
     },
     "execution_count": null,
     "metadata": {},
     "output_type": "execute_result"
    }
   ],
   "source": [
    "#|hide\n",
    "#|eval: false\n",
    "# active_tunnels = ngrok.get_tunnels()\n",
    "# for tunnel in active_tunnels:\n",
    "#     public_url = tunnel.public_url\n",
    "#     ngrok.disconnect(public_url)\n",
    "# url = ngrok.connect(port=10001, **{\"bind_tls\": True}, return_ngrok_tunnel=True)\n",
    "# url.public_url"
   ]
  },
  {
   "cell_type": "code",
   "execution_count": null,
   "metadata": {},
   "outputs": [],
   "source": [
    "#|hide\n",
    "import nbdev; nbdev.nbdev_export()"
   ]
  }
 ],
 "metadata": {
  "kernelspec": {
   "display_name": "Python 3 (ipykernel)",
   "language": "python",
   "name": "python3"
  }
 },
 "nbformat": 4,
 "nbformat_minor": 4
}
