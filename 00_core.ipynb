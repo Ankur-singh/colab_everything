{
 "cells": [
  {
   "cell_type": "markdown",
   "metadata": {},
   "source": [
    "# core"
   ]
  },
  {
   "cell_type": "code",
   "execution_count": null,
   "metadata": {},
   "outputs": [],
   "source": [
    "#| default_exp core"
   ]
  },
  {
   "cell_type": "code",
   "execution_count": null,
   "metadata": {},
   "outputs": [],
   "source": [
    "#| hide\n",
    "from nbdev.showdoc import *"
   ]
  },
  {
   "cell_type": "code",
   "execution_count": null,
   "metadata": {},
   "outputs": [],
   "source": [
    "#| export\n",
    "import os\n",
    "import subprocess\n",
    "from pyngrok import ngrok"
   ]
  },
  {
   "cell_type": "code",
   "execution_count": null,
   "metadata": {},
   "outputs": [],
   "source": [
    "#| export\n",
    "class ColabBase():\n",
    "    def __init__(self, port=9999):\n",
    "        self.port = port\n",
    "        self._start_server()\n",
    "        \n",
    "    def _start_server(self):\n",
    "        active_tunnels = ngrok.get_tunnels()\n",
    "        for tunnel in active_tunnels:\n",
    "            public_url = tunnel.public_url\n",
    "            ngrok.disconnect(public_url)\n",
    "        url = ngrok.connect(addr=self.port, options={\"bind_tls\": True}, return_ngrok_tunnel=True)\n",
    "        print(f'Web App can be accessed on: {url.public_url}')"
   ]
  },
  {
   "cell_type": "code",
   "execution_count": null,
   "metadata": {},
   "outputs": [],
   "source": [
    "#| export\n",
    "class ColabStreamlit(ColabBase):\n",
    "    def __init__(self, path, port=9999):\n",
    "        super().__init__(port)\n",
    "        self.path = path\n",
    "        self.run_app()\n",
    "\n",
    "    def run_app(self, debug=True):\n",
    "        os.system(f\"fuser -n tcp -k {self.port}\")\n",
    "        cmd = f'streamlit run {self.path} --server.port {self.port}'\n",
    "        with subprocess.Popen(\n",
    "            [cmd],\n",
    "            shell=True,\n",
    "            stdout=subprocess.PIPE,\n",
    "            bufsize=1,\n",
    "            universal_newlines=True,\n",
    "            ) as proc:\n",
    "                for line in proc.stdout:\n",
    "                    if debug: print(line, end=\"\")"
   ]
  },
  {
   "cell_type": "code",
   "execution_count": null,
   "metadata": {},
   "outputs": [],
   "source": [
    "#| export\n",
    "class ColabFlask(ColabBase):\n",
    "    def __init__(self, path, port=9999):\n",
    "        super().__init__(port)\n",
    "        self.path = path\n",
    "        self.run_app()\n",
    "\n",
    "    def run_app(self, debug=True):\n",
    "        os.system(f\"fuser -n tcp -k {self.port}\")\n",
    "        cmd = f'FLASK_APP={self.path} flask run --host=0.0.0.0 --port={self.port}'\n",
    "        with subprocess.Popen(\n",
    "            [cmd],\n",
    "            shell=True,\n",
    "            stdout=subprocess.PIPE,\n",
    "            bufsize=1,\n",
    "            universal_newlines=True,\n",
    "            ) as proc:\n",
    "                for line in proc.stdout:\n",
    "                    if debug: print(line, end=\"\")"
   ]
  },
  {
   "cell_type": "code",
   "execution_count": null,
   "metadata": {},
   "outputs": [],
   "source": [
    "#| export\n",
    "class ColabFastapi(ColabBase):\n",
    "    def __init__(self, path, app='app', port=9999):\n",
    "        super().__init__(port)\n",
    "        self.path = path\n",
    "        self.app = app\n",
    "        self.run_app()\n",
    "\n",
    "    def run_app(self, debug=True):\n",
    "        os.system(f\"fuser -n tcp -k {self.port}\")\n",
    "        cmd = f'uvicorn {self.path}:{self.app} --reload --port {self.port}'\n",
    "        with subprocess.Popen(\n",
    "            [cmd],\n",
    "            shell=True,\n",
    "            stdout=subprocess.PIPE,\n",
    "            bufsize=1,\n",
    "            universal_newlines=True,\n",
    "            ) as proc:\n",
    "                for line in proc.stdout:\n",
    "                    if debug: print(line, end=\"\")"
   ]
  },
  {
   "cell_type": "code",
   "execution_count": null,
   "metadata": {},
   "outputs": [],
   "source": [
    "#| export\n",
    "class ColabCustom(ColabBase):\n",
    "    def __init__(self, cmd, port=9999):\n",
    "        super().__init__(port)\n",
    "        self.cmd = cmd\n",
    "        self.run_app()\n",
    "\n",
    "    def run_app(self, debug=True):\n",
    "        os.system(f\"fuser -n tcp -k {self.port}\")\n",
    "        with subprocess.Popen(\n",
    "            [self.cmd],\n",
    "            shell=True,\n",
    "            stdout=subprocess.PIPE,\n",
    "            bufsize=1,\n",
    "            universal_newlines=True,\n",
    "            ) as proc:\n",
    "                for line in proc.stdout:\n",
    "                    if debug: print(line, end=\"\")"
   ]
  },
  {
   "cell_type": "code",
   "execution_count": null,
   "metadata": {},
   "outputs": [],
   "source": [
    "#|hide\n",
    "#|eval: false\n",
    "# ColabStreamlit('hello')"
   ]
  },
  {
   "cell_type": "code",
   "execution_count": null,
   "metadata": {},
   "outputs": [],
   "source": [
    "#|hide\n",
    "#|eval: false\n",
    "# active_tunnels = ngrok.get_tunnels()\n",
    "# for tunnel in active_tunnels:\n",
    "#     public_url = tunnel.public_url\n",
    "#     ngrok.disconnect(public_url)\n",
    "# url = ngrok.connect(port=10001, **{\"bind_tls\": True}, return_ngrok_tunnel=True)\n",
    "# url.public_url"
   ]
  },
  {
   "cell_type": "code",
   "execution_count": null,
   "metadata": {},
   "outputs": [],
   "source": [
    "#| hide\n",
    "import nbdev; nbdev.nbdev_export()"
   ]
  }
 ],
 "metadata": {
  "kernelspec": {
   "display_name": "Python 3 (ipykernel)",
   "language": "python",
   "name": "python3"
  }
 },
 "nbformat": 4,
 "nbformat_minor": 4
}
