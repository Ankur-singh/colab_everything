{
 "cells": [
  {
   "cell_type": "code",
   "execution_count": null,
   "metadata": {},
   "outputs": [],
   "source": [
    "#hide\n",
    "from your_lib.core import *"
   ]
  },
  {
   "cell_type": "markdown",
   "metadata": {},
   "source": [
    "# colab_everything\n",
    "\n",
    "> Python library to run streamlit, flask, fastapi, etc on google colab.\n",
    "\n",
    "We cannot access the localhost on Google Colab, as we do on our local machine because Google Colab provides a VM(virtual machine). Hence, we will have to expose it to a public URL to access it. We can use [ngrok](https://ngrok.com/). **Ngrok** exposes local servers behind NATs and firewalls to the public internet over secure tunnels.\n",
    "\n",
    "This library hides away all the complexity and provides you simple interface to run your webapps on colab. The library can be used in the following scenario:\n",
    "- To test your web app before deploying it into production. \n",
    "- To share the app with peers, friends, and clients; so that they can use/test your app and provide feedbacks."
   ]
  },
  {
   "cell_type": "markdown",
   "metadata": {},
   "source": [
    "## Install\n",
    "\n",
    "`pip install colab-everything`"
   ]
  },
  {
   "cell_type": "markdown",
   "metadata": {},
   "source": [
    "## How to use\n",
    "\n",
    "**Note:** The library is only responsible for port tunneling. So, you will have setup everything required to run your web app. For example; installing all the dependecies, setting up all the environment varibles, etc."
   ]
  },
  {
   "cell_type": "markdown",
   "metadata": {},
   "source": [
    "#### Streamlit app"
   ]
  },
  {
   "cell_type": "code",
   "execution_count": null,
   "metadata": {},
   "outputs": [
    {
     "name": "stdout",
     "output_type": "stream",
     "text": [
      "Streamlit app can be accessed on: https://27b3dd7d3f04.ngrok.io\n"
     ]
    }
   ],
   "source": [
    "from colab_everything import ColabStreamlit\n",
    "ColabStreamlit('app.py') # streamlit app path"
   ]
  },
  {
   "cell_type": "markdown",
   "metadata": {},
   "source": [
    "#### Flask app"
   ]
  },
  {
   "cell_type": "code",
   "execution_count": null,
   "metadata": {},
   "outputs": [
    {
     "name": "stdout",
     "output_type": "stream",
     "text": [
      "Streamlit app can be accessed on: https://27b3dd7d3f04.ngrok.io\n"
     ]
    }
   ],
   "source": [
    "from colab_everything import ColabFlask\n",
    "ColabFlask('app.py') # Flask app path"
   ]
  },
  {
   "cell_type": "markdown",
   "metadata": {},
   "source": [
    "#### FastAPI app\n",
    "\n",
    "**Note:** FastAPI uses `uvicorn`, so the syntax is a bit different. You will have to pass only the file name (without extention). For example, pass `main` if your app is `main.py`."
   ]
  },
  {
   "cell_type": "code",
   "execution_count": null,
   "metadata": {},
   "outputs": [
    {
     "name": "stdout",
     "output_type": "stream",
     "text": [
      "Streamlit app can be accessed on: https://27b3dd7d3f04.ngrok.io\n"
     ]
    }
   ],
   "source": [
    "from colab_everything import ColabFastapi\n",
    "ColabFastapi('app') # FastAPI app file name"
   ]
  },
  {
   "cell_type": "markdown",
   "metadata": {},
   "source": [
    "#### Any other Custom app or command\n",
    "\n",
    "You can use `ColabCustom` to easily run an other app or command.\n",
    "\n",
    "To be very honest, you will never have to use `http.server` because colab already provides a file explorer. The example below is just for demonstration purposes.\n",
    "\n",
    "**Note:** The default port is 9999. If you are using any other port then you will have specify it twice; in the command and also in the argument."
   ]
  },
  {
   "cell_type": "code",
   "execution_count": null,
   "metadata": {},
   "outputs": [
    {
     "name": "stdout",
     "output_type": "stream",
     "text": [
      "Streamlit app can be accessed on: https://27b3dd7d3f04.ngrok.io\n"
     ]
    }
   ],
   "source": [
    "## Using default port\n",
    "from colab_everything import ColabCustom\n",
    "cmd = 'python -m http.server 9999'\n",
    "ColabCustom(cmd)"
   ]
  },
  {
   "cell_type": "code",
   "execution_count": null,
   "metadata": {},
   "outputs": [
    {
     "name": "stdout",
     "output_type": "stream",
     "text": [
      "Streamlit app can be accessed on: https://27b3dd7d3f04.ngrok.io\n"
     ]
    }
   ],
   "source": [
    "## Using non-default port\n",
    "from colab_everything import ColabCustom\n",
    "cmd = 'python -m http.server 10000'\n",
    "ColabCustom(cmd, port=10000)"
   ]
  },
  {
   "cell_type": "markdown",
   "metadata": {},
   "source": [
    "I am actively looking for feedbacks and contributions. Feel free to contact me at *as.ankursingh3.1@gmail.com*."
   ]
  }
 ],
 "metadata": {
  "kernelspec": {
   "display_name": "Python 3",
   "language": "python",
   "name": "python3"
  }
 },
 "nbformat": 4,
 "nbformat_minor": 4
}
