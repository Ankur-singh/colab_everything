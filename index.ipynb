{
 "cells": [
  {
   "cell_type": "code",
   "execution_count": null,
   "metadata": {},
   "outputs": [],
   "source": [
    "#hide\n",
    "from your_lib.core import *"
   ]
  },
  {
   "cell_type": "markdown",
   "metadata": {},
   "source": [
    "# colab_everything\n",
    "\n",
    "> Python library to run streamlit, flask, fastapi, etc on google colab."
   ]
  },
  {
   "cell_type": "markdown",
   "metadata": {},
   "source": [
    "## Install"
   ]
  },
  {
   "cell_type": "markdown",
   "metadata": {},
   "source": [
    "`pip install colab_everything`"
   ]
  },
  {
   "cell_type": "markdown",
   "metadata": {},
   "source": [
    "## How to use\n",
    "\n",
    "**Note:** Make sure you have `Streamlit` installed before running the below code.\n",
    "\n",
    "You can use `pip` to install `Streamlit`\n",
    "\n",
    "```\n",
    "pip install streamlit\n",
    "```"
   ]
  },
  {
   "cell_type": "code",
   "execution_count": null,
   "metadata": {},
   "outputs": [
    {
     "name": "stdout",
     "output_type": "stream",
     "text": [
      "Streamlit app can be accessed on: https://27b3dd7d3f04.ngrok.io\n"
     ]
    }
   ],
   "source": [
    "from colab_everything import ColabStreamlit\n",
    "ColabStreamlit('hello') # streamlit app path"
   ]
  }
 ],
 "metadata": {
  "kernelspec": {
   "display_name": "Python 3",
   "language": "python",
   "name": "python3"
  }
 },
 "nbformat": 4,
 "nbformat_minor": 4
}
